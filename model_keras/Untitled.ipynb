{
 "cells": [
  {
   "cell_type": "code",
   "execution_count": 4,
   "id": "4e9d194b",
   "metadata": {},
   "outputs": [],
   "source": [
    "import imblearn.over_sampling"
   ]
  },
  {
   "cell_type": "code",
   "execution_count": 10,
   "id": "6adf7c25",
   "metadata": {},
   "outputs": [
    {
     "name": "stdout",
     "output_type": "stream",
     "text": [
      "Object `predict` not found.\n"
     ]
    }
   ],
   "source": [
    ".predict"
   ]
  },
  {
   "cell_type": "code",
   "execution_count": null,
   "id": "a941aacc",
   "metadata": {},
   "outputs": [],
   "source": [
    ".predict"
   ]
  },
  {
   "cell_type": "code",
   "execution_count": null,
   "id": "b40e6101",
   "metadata": {},
   "outputs": [],
   "source": [
    ".predict"
   ]
  }
 ],
 "metadata": {
  "kernelspec": {
   "display_name": "Python 3",
   "language": "python",
   "name": "python3"
  },
  "language_info": {
   "codemirror_mode": {
    "name": "ipython",
    "version": 3
   },
   "file_extension": ".py",
   "mimetype": "text/x-python",
   "name": "python",
   "nbconvert_exporter": "python",
   "pygments_lexer": "ipython3",
   "version": "3.8.8"
  }
 },
 "nbformat": 4,
 "nbformat_minor": 5
}
